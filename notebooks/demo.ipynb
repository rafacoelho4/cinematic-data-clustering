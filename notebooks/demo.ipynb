{
 "cells": [
  {
   "cell_type": "markdown",
   "id": "6bdbb5f9",
   "metadata": {},
   "source": [
    "# In The Mood For Love\n",
    "\n",
    "Projeto inspirado pelo filme In The Mood For Love do diretor Wong Kar-Wai.\n",
    "\n",
    "Passos:\n",
    "1. Extrair trecho do filme e separar em cenas. Duas opções: utilizar o método do ffmpeg ou a biblioteca scenedetect.\n",
    "2. Extrair frames das cenas para analisar imagem (hue, saturação...).\n",
    "3. Extrair áudio das cenas e coletar informações como nível médio de áudio e silêncio.\n",
    "\n",
    "Fazer funcionar antes para depois melhorar.\n",
    "Pontos a melhorar: adicionar mais atributos de audio e de imagem, extrair mais de um frame por cena, otimizar detecção de cenas..."
   ]
  },
  {
   "cell_type": "code",
   "execution_count": null,
   "id": "5c18d971",
   "metadata": {},
   "outputs": [],
   "source": [
    "import pandas as pd"
   ]
  },
  {
   "cell_type": "code",
   "execution_count": null,
   "id": "150dcd74",
   "metadata": {},
   "outputs": [],
   "source": [
    "from scene_detection import detect_scene\n",
    "from feature_extraction import audio_features"
   ]
  },
  {
   "cell_type": "code",
   "execution_count": null,
   "id": "41144282",
   "metadata": {},
   "outputs": [],
   "source": [
    "video_path = '../data/' \n",
    "video_name = 'inthemood.mp4' \n",
    "\n",
    "df = pd.DataFrame() \n",
    "df = detect_scene(video_name) "
   ]
  },
  {
   "cell_type": "code",
   "execution_count": null,
   "id": "3ea037c5",
   "metadata": {},
   "outputs": [],
   "source": [
    "df = audio_features('...', video_name, df) "
   ]
  },
  {
   "cell_type": "code",
   "execution_count": null,
   "id": "b5f4b224",
   "metadata": {},
   "outputs": [],
   "source": [
    "# df = extract_frames() \n",
    "# df = image_features() "
   ]
  }
 ],
 "metadata": {
  "language_info": {
   "name": "python"
  }
 },
 "nbformat": 4,
 "nbformat_minor": 5
}
