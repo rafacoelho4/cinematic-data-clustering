{
 "cells": [
  {
   "cell_type": "markdown",
   "id": "6bdbb5f9",
   "metadata": {},
   "source": [
    "# In The Mood For Love\n",
    "\n",
    "Projeto inspirado pelo filme In The Mood For Love do diretor Wong Kar-Wai.\n",
    "\n",
    "Passos:\n",
    "1. Extrair trecho do filme e separar em cenas. Duas opções: utilizar o método do ffmpeg ou a biblioteca scenedetect.\n",
    "2. Extrair frames das cenas para analisar imagem (hue, saturação...).\n",
    "3. Extrair áudio das cenas e coletar informações como nível médio de áudio e silêncio.\n",
    "\n",
    "Fazer funcionar antes para depois melhorar.\n",
    "Pontos a melhorar: adicionar mais atributos de audio e de imagem, extrair mais de um frame por cena, otimizar detecção de cenas..."
   ]
  },
  {
   "cell_type": "code",
   "execution_count": null,
   "id": "5c18d971",
   "metadata": {},
   "outputs": [],
   "source": [
    "import pandas as pd \n",
    "import numpy as np "
   ]
  },
  {
   "cell_type": "code",
   "execution_count": 70,
   "id": "8f1a2352",
   "metadata": {},
   "outputs": [],
   "source": [
    "from importlib import reload\n",
    "import sys\n",
    "sys.path.append('../src')\n",
    "\n",
    "import scene_detection\n",
    "import feature_extraction \n",
    "\n",
    "reload(scene_detection)\n",
    "reload(feature_extraction)\n",
    "\n",
    "from scene_detection import detect_scene \n",
    "from feature_extraction import audio_features "
   ]
  },
  {
   "cell_type": "code",
   "execution_count": 61,
   "id": "41144282",
   "metadata": {},
   "outputs": [
    {
     "name": "stderr",
     "output_type": "stream",
     "text": [
      "VideoManager is deprecated and will be removed.\n"
     ]
    },
    {
     "name": "stdout",
     "output_type": "stream",
     "text": [
      "Total de shots: 7\n"
     ]
    }
   ],
   "source": [
    "video_name = 'snippet' \n",
    "file_extension = '.mp4' \n",
    "video_file =  video_name + file_extension \n",
    "\n",
    "df = pd.DataFrame() \n",
    "df = detect_scene(video_file) "
   ]
  },
  {
   "cell_type": "code",
   "execution_count": null,
   "id": "3ea037c5",
   "metadata": {},
   "outputs": [
    {
     "data": {
      "text/html": [
       "<div>\n",
       "<style scoped>\n",
       "    .dataframe tbody tr th:only-of-type {\n",
       "        vertical-align: middle;\n",
       "    }\n",
       "\n",
       "    .dataframe tbody tr th {\n",
       "        vertical-align: top;\n",
       "    }\n",
       "\n",
       "    .dataframe thead th {\n",
       "        text-align: right;\n",
       "    }\n",
       "</style>\n",
       "<table border=\"1\" class=\"dataframe\">\n",
       "  <thead>\n",
       "    <tr style=\"text-align: right;\">\n",
       "      <th></th>\n",
       "      <th>shot_id</th>\n",
       "      <th>start</th>\n",
       "      <th>end</th>\n",
       "      <th>duration</th>\n",
       "      <th>rms_mean</th>\n",
       "      <th>rms_std</th>\n",
       "      <th>silence_ratio</th>\n",
       "    </tr>\n",
       "  </thead>\n",
       "  <tbody>\n",
       "    <tr>\n",
       "      <th>0</th>\n",
       "      <td>0</td>\n",
       "      <td>0.000000</td>\n",
       "      <td>1.751750</td>\n",
       "      <td>1.751750</td>\n",
       "      <td>0.001750</td>\n",
       "      <td>0.000483</td>\n",
       "      <td>0.000000</td>\n",
       "    </tr>\n",
       "    <tr>\n",
       "      <th>1</th>\n",
       "      <td>1</td>\n",
       "      <td>1.751750</td>\n",
       "      <td>5.588917</td>\n",
       "      <td>3.837167</td>\n",
       "      <td>0.005666</td>\n",
       "      <td>0.007731</td>\n",
       "      <td>0.000000</td>\n",
       "    </tr>\n",
       "    <tr>\n",
       "      <th>2</th>\n",
       "      <td>2</td>\n",
       "      <td>5.588917</td>\n",
       "      <td>13.930583</td>\n",
       "      <td>8.341667</td>\n",
       "      <td>0.004374</td>\n",
       "      <td>0.007583</td>\n",
       "      <td>0.613889</td>\n",
       "    </tr>\n",
       "    <tr>\n",
       "      <th>3</th>\n",
       "      <td>3</td>\n",
       "      <td>13.930583</td>\n",
       "      <td>15.515500</td>\n",
       "      <td>1.584917</td>\n",
       "      <td>0.001277</td>\n",
       "      <td>0.001242</td>\n",
       "      <td>0.739130</td>\n",
       "    </tr>\n",
       "    <tr>\n",
       "      <th>4</th>\n",
       "      <td>4</td>\n",
       "      <td>15.515500</td>\n",
       "      <td>31.489792</td>\n",
       "      <td>15.974292</td>\n",
       "      <td>0.025763</td>\n",
       "      <td>0.050066</td>\n",
       "      <td>0.527616</td>\n",
       "    </tr>\n",
       "    <tr>\n",
       "      <th>5</th>\n",
       "      <td>5</td>\n",
       "      <td>31.489792</td>\n",
       "      <td>40.248542</td>\n",
       "      <td>8.758750</td>\n",
       "      <td>0.073119</td>\n",
       "      <td>0.049930</td>\n",
       "      <td>0.000000</td>\n",
       "    </tr>\n",
       "    <tr>\n",
       "      <th>6</th>\n",
       "      <td>6</td>\n",
       "      <td>40.248542</td>\n",
       "      <td>60.310250</td>\n",
       "      <td>20.061708</td>\n",
       "      <td>0.061749</td>\n",
       "      <td>0.031736</td>\n",
       "      <td>0.000000</td>\n",
       "    </tr>\n",
       "  </tbody>\n",
       "</table>\n",
       "</div>"
      ],
      "text/plain": [
       "   shot_id      start        end   duration  rms_mean   rms_std  silence_ratio\n",
       "0        0   0.000000   1.751750   1.751750  0.001750  0.000483       0.000000\n",
       "1        1   1.751750   5.588917   3.837167  0.005666  0.007731       0.000000\n",
       "2        2   5.588917  13.930583   8.341667  0.004374  0.007583       0.613889\n",
       "3        3  13.930583  15.515500   1.584917  0.001277  0.001242       0.739130\n",
       "4        4  15.515500  31.489792  15.974292  0.025763  0.050066       0.527616\n",
       "5        5  31.489792  40.248542   8.758750  0.073119  0.049930       0.000000\n",
       "6        6  40.248542  60.310250  20.061708  0.061749  0.031736       0.000000"
      ]
     },
     "execution_count": 71,
     "metadata": {},
     "output_type": "execute_result"
    }
   ],
   "source": [
    "audio_df = df.copy() \n",
    "audio_df = audio_features(video_file, video_name, df) \n",
    "audio_df"
   ]
  },
  {
   "cell_type": "code",
   "execution_count": null,
   "id": "b5f4b224",
   "metadata": {},
   "outputs": [],
   "source": [
    "# df = extract_frames() \n",
    "# df = image_features() "
   ]
  }
 ],
 "metadata": {
  "kernelspec": {
   "display_name": ".venv",
   "language": "python",
   "name": "python3"
  },
  "language_info": {
   "codemirror_mode": {
    "name": "ipython",
    "version": 3
   },
   "file_extension": ".py",
   "mimetype": "text/x-python",
   "name": "python",
   "nbconvert_exporter": "python",
   "pygments_lexer": "ipython3",
   "version": "3.10.18"
  }
 },
 "nbformat": 4,
 "nbformat_minor": 5
}
