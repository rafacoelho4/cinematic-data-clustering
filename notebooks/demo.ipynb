{
 "cells": [
  {
   "cell_type": "markdown",
   "id": "6bdbb5f9",
   "metadata": {},
   "source": [
    "# In The Mood For Love\n",
    "\n",
    "Projeto inspirado pelo filme In The Mood For Love do diretor Wong Kar-Wai.\n",
    "\n",
    "Passos:\n",
    "1. Extrair trecho do filme e separar em cenas. Duas opções: utilizar o método do ffmpeg ou a biblioteca scenedetect.\n",
    "2. Extrair frames das cenas para analisar imagem (hue, saturação...).\n",
    "3. Extrair áudio das cenas e coletar informações como nível médio de áudio e silêncio.\n",
    "\n",
    "Fazer funcionar antes para depois melhorar.\n",
    "Pontos a melhorar: adicionar mais atributos de audio e de imagem, extrair mais de um frame por cena, otimizar detecção de cenas..."
   ]
  },
  {
   "cell_type": "code",
   "execution_count": 233,
   "id": "5c18d971",
   "metadata": {},
   "outputs": [],
   "source": [
    "import pandas as pd \n",
    "import numpy as np "
   ]
  },
  {
   "cell_type": "code",
   "execution_count": 254,
   "id": "8f1a2352",
   "metadata": {},
   "outputs": [],
   "source": [
    "from importlib import reload\n",
    "import sys\n",
    "sys.path.append('../src')\n",
    "\n",
    "import scene_detection\n",
    "import feature_extraction \n",
    "import visualization\n",
    "import clustering \n",
    "\n",
    "reload(scene_detection)\n",
    "reload(feature_extraction)\n",
    "reload(visualization)\n",
    "reload(clustering)\n",
    "\n",
    "from scene_detection import detect_scene_low_resolution\n",
    "from feature_extraction import audio_features, extract_frames, image_features, movement_features\n",
    "from visualization import plot_rms_silence, plot_color_features, plot_movement, plot_cluster_timeline, plot_scatter_umap, plot_scatter_pca\n",
    "from clustering import clustering "
   ]
  },
  {
   "cell_type": "code",
   "execution_count": 235,
   "id": "41144282",
   "metadata": {},
   "outputs": [
    {
     "name": "stderr",
     "output_type": "stream",
     "text": [
      "VideoManager is deprecated and will be removed.\n"
     ]
    },
    {
     "name": "stdout",
     "output_type": "stream",
     "text": [
      "Total de shots: 461\n"
     ]
    }
   ],
   "source": [
    "video_name = 'fullMovie' \n",
    "file_extension = '.mp4' \n",
    "video_file =  video_name + file_extension \n",
    "\n",
    "df = pd.DataFrame() \n",
    "df = detect_scene_low_resolution(video_file) "
   ]
  },
  {
   "cell_type": "code",
   "execution_count": 236,
   "id": "b5f4b224",
   "metadata": {},
   "outputs": [],
   "source": [
    "df = audio_features(video_file, df) \n",
    "df = extract_frames(video_file, df) \n",
    "df = image_features(df) \n",
    "\n",
    "# df = movement_features(video_file, df) \n",
    "# testar depois: usar lowres e ver se valores obtidos pelo original e lowres sao iguais \n",
    "# resultado: valores diferentes "
   ]
  },
  {
   "cell_type": "code",
   "execution_count": 237,
   "id": "6634fe03",
   "metadata": {},
   "outputs": [
    {
     "data": {
      "text/html": [
       "<div>\n",
       "<style scoped>\n",
       "    .dataframe tbody tr th:only-of-type {\n",
       "        vertical-align: middle;\n",
       "    }\n",
       "\n",
       "    .dataframe tbody tr th {\n",
       "        vertical-align: top;\n",
       "    }\n",
       "\n",
       "    .dataframe thead th {\n",
       "        text-align: right;\n",
       "    }\n",
       "</style>\n",
       "<table border=\"1\" class=\"dataframe\">\n",
       "  <thead>\n",
       "    <tr style=\"text-align: right;\">\n",
       "      <th></th>\n",
       "      <th>shot_id</th>\n",
       "      <th>hue_mean</th>\n",
       "      <th>hue_var</th>\n",
       "      <th>sat_mean</th>\n",
       "      <th>sat_var</th>\n",
       "      <th>val_mean</th>\n",
       "      <th>val_var</th>\n",
       "      <th>r_mean</th>\n",
       "      <th>r_var</th>\n",
       "      <th>g_mean</th>\n",
       "      <th>g_var</th>\n",
       "      <th>b_mean</th>\n",
       "      <th>b_var</th>\n",
       "      <th>start</th>\n",
       "      <th>end</th>\n",
       "      <th>duration</th>\n",
       "      <th>rms_mean</th>\n",
       "      <th>rms_std</th>\n",
       "      <th>silence_ratio</th>\n",
       "      <th>frame_path</th>\n",
       "    </tr>\n",
       "  </thead>\n",
       "  <tbody>\n",
       "    <tr>\n",
       "      <th>0</th>\n",
       "      <td>0</td>\n",
       "      <td>0.000000</td>\n",
       "      <td>0.000000</td>\n",
       "      <td>0.000000</td>\n",
       "      <td>0.000000</td>\n",
       "      <td>0.000000</td>\n",
       "      <td>0.000000</td>\n",
       "      <td>0.000000</td>\n",
       "      <td>0.000000</td>\n",
       "      <td>0.000000</td>\n",
       "      <td>0.000000</td>\n",
       "      <td>0.000000</td>\n",
       "      <td>0.000000</td>\n",
       "      <td>0.000000</td>\n",
       "      <td>2.866667</td>\n",
       "      <td>2.866667</td>\n",
       "      <td>0.000290</td>\n",
       "      <td>0.000474</td>\n",
       "      <td>0.887097</td>\n",
       "      <td>../data/frames/fullM_000_1.433.jpg</td>\n",
       "    </tr>\n",
       "    <tr>\n",
       "      <th>1</th>\n",
       "      <td>1</td>\n",
       "      <td>1.290360</td>\n",
       "      <td>62.679845</td>\n",
       "      <td>2.230100</td>\n",
       "      <td>389.307034</td>\n",
       "      <td>4.646810</td>\n",
       "      <td>700.689823</td>\n",
       "      <td>4.622418</td>\n",
       "      <td>694.808189</td>\n",
       "      <td>4.627525</td>\n",
       "      <td>696.863872</td>\n",
       "      <td>4.241653</td>\n",
       "      <td>587.145291</td>\n",
       "      <td>2.866667</td>\n",
       "      <td>10.333333</td>\n",
       "      <td>7.466667</td>\n",
       "      <td>0.000918</td>\n",
       "      <td>0.000983</td>\n",
       "      <td>0.534161</td>\n",
       "      <td>../data/frames/fullM_001_6.600.jpg</td>\n",
       "    </tr>\n",
       "    <tr>\n",
       "      <th>2</th>\n",
       "      <td>2</td>\n",
       "      <td>14.071744</td>\n",
       "      <td>2141.967465</td>\n",
       "      <td>204.088495</td>\n",
       "      <td>10154.128736</td>\n",
       "      <td>112.616738</td>\n",
       "      <td>713.361049</td>\n",
       "      <td>112.574157</td>\n",
       "      <td>708.917356</td>\n",
       "      <td>33.023680</td>\n",
       "      <td>4289.845148</td>\n",
       "      <td>33.232057</td>\n",
       "      <td>4289.405211</td>\n",
       "      <td>10.333333</td>\n",
       "      <td>12.600000</td>\n",
       "      <td>2.266667</td>\n",
       "      <td>0.000020</td>\n",
       "      <td>0.000005</td>\n",
       "      <td>1.000000</td>\n",
       "      <td>../data/frames/fullM_002_11.467.jpg</td>\n",
       "    </tr>\n",
       "    <tr>\n",
       "      <th>3</th>\n",
       "      <td>3</td>\n",
       "      <td>12.175712</td>\n",
       "      <td>1881.840662</td>\n",
       "      <td>168.523223</td>\n",
       "      <td>14367.451438</td>\n",
       "      <td>121.724119</td>\n",
       "      <td>989.191920</td>\n",
       "      <td>121.693258</td>\n",
       "      <td>986.518074</td>\n",
       "      <td>56.033568</td>\n",
       "      <td>6047.314430</td>\n",
       "      <td>56.212236</td>\n",
       "      <td>6037.387993</td>\n",
       "      <td>12.600000</td>\n",
       "      <td>14.733333</td>\n",
       "      <td>2.133333</td>\n",
       "      <td>0.022561</td>\n",
       "      <td>0.023716</td>\n",
       "      <td>0.206522</td>\n",
       "      <td>../data/frames/fullM_003_13.667.jpg</td>\n",
       "    </tr>\n",
       "    <tr>\n",
       "      <th>4</th>\n",
       "      <td>4</td>\n",
       "      <td>13.343797</td>\n",
       "      <td>2037.423121</td>\n",
       "      <td>223.095891</td>\n",
       "      <td>6864.817579</td>\n",
       "      <td>107.607857</td>\n",
       "      <td>501.351330</td>\n",
       "      <td>107.564405</td>\n",
       "      <td>496.391808</td>\n",
       "      <td>20.722944</td>\n",
       "      <td>2916.097235</td>\n",
       "      <td>20.938802</td>\n",
       "      <td>2922.445513</td>\n",
       "      <td>14.733333</td>\n",
       "      <td>19.866667</td>\n",
       "      <td>5.133333</td>\n",
       "      <td>0.024927</td>\n",
       "      <td>0.010684</td>\n",
       "      <td>0.000000</td>\n",
       "      <td>../data/frames/fullM_004_17.300.jpg</td>\n",
       "    </tr>\n",
       "  </tbody>\n",
       "</table>\n",
       "</div>"
      ],
      "text/plain": [
       "   shot_id   hue_mean      hue_var    sat_mean       sat_var    val_mean  \\\n",
       "0        0   0.000000     0.000000    0.000000      0.000000    0.000000   \n",
       "1        1   1.290360    62.679845    2.230100    389.307034    4.646810   \n",
       "2        2  14.071744  2141.967465  204.088495  10154.128736  112.616738   \n",
       "3        3  12.175712  1881.840662  168.523223  14367.451438  121.724119   \n",
       "4        4  13.343797  2037.423121  223.095891   6864.817579  107.607857   \n",
       "\n",
       "      val_var      r_mean       r_var     g_mean        g_var     b_mean  \\\n",
       "0    0.000000    0.000000    0.000000   0.000000     0.000000   0.000000   \n",
       "1  700.689823    4.622418  694.808189   4.627525   696.863872   4.241653   \n",
       "2  713.361049  112.574157  708.917356  33.023680  4289.845148  33.232057   \n",
       "3  989.191920  121.693258  986.518074  56.033568  6047.314430  56.212236   \n",
       "4  501.351330  107.564405  496.391808  20.722944  2916.097235  20.938802   \n",
       "\n",
       "         b_var      start        end  duration  rms_mean   rms_std  \\\n",
       "0     0.000000   0.000000   2.866667  2.866667  0.000290  0.000474   \n",
       "1   587.145291   2.866667  10.333333  7.466667  0.000918  0.000983   \n",
       "2  4289.405211  10.333333  12.600000  2.266667  0.000020  0.000005   \n",
       "3  6037.387993  12.600000  14.733333  2.133333  0.022561  0.023716   \n",
       "4  2922.445513  14.733333  19.866667  5.133333  0.024927  0.010684   \n",
       "\n",
       "   silence_ratio                           frame_path  \n",
       "0       0.887097   ../data/frames/fullM_000_1.433.jpg  \n",
       "1       0.534161   ../data/frames/fullM_001_6.600.jpg  \n",
       "2       1.000000  ../data/frames/fullM_002_11.467.jpg  \n",
       "3       0.206522  ../data/frames/fullM_003_13.667.jpg  \n",
       "4       0.000000  ../data/frames/fullM_004_17.300.jpg  "
      ]
     },
     "execution_count": 237,
     "metadata": {},
     "output_type": "execute_result"
    }
   ],
   "source": [
    "df.head()"
   ]
  },
  {
   "cell_type": "code",
   "execution_count": 238,
   "id": "c29f32fc",
   "metadata": {},
   "outputs": [],
   "source": [
    "df.to_csv(f'../data/{video_name}.csv', index=False)"
   ]
  },
  {
   "cell_type": "code",
   "execution_count": null,
   "id": "d1fae967",
   "metadata": {},
   "outputs": [],
   "source": [
    "# Visualization of audio, image and movement features \n",
    "# plot_rms_silence(df) \n",
    "plot_color_features(df)\n",
    "# plot_movement(df)\n",
    "\n",
    "# salvar gráfico de imagem em ../data como snippet_img_features.png"
   ]
  },
  {
   "cell_type": "code",
   "execution_count": 255,
   "id": "112a058b",
   "metadata": {},
   "outputs": [
    {
     "data": {
      "image/png": "[encoded data removed]",
      "text/plain": [
       "<Figure size 1000x400 with 1 Axes>"
      ]
     },
     "metadata": {},
     "output_type": "display_data"
    }
   ],
   "source": [
    "df = clustering(video_name, n_clusters=4)\n",
    "# df = plot_scatter_pca(df)\n",
    "# df = plot_scatter_umap(df)\n",
    "\n",
    "plot_cluster_timeline(df)"
   ]
  }
 ],
 "metadata": {
  "kernelspec": {
   "display_name": ".venv",
   "language": "python",
   "name": "python3"
  },
  "language_info": {
   "codemirror_mode": {
    "name": "ipython",
    "version": 3
   },
   "file_extension": ".py",
   "mimetype": "text/x-python",
   "name": "python",
   "nbconvert_exporter": "python",
   "pygments_lexer": "ipython3",
   "version": "3.10.18"
  }
 },
 "nbformat": 4,
 "nbformat_minor": 5
}
