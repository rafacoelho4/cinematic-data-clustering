{
 "cells": [
  {
   "cell_type": "markdown",
   "id": "6bdbb5f9",
   "metadata": {},
   "source": [
    "# In The Mood For Love\n",
    "\n",
    "Projeto inspirado pelo filme In The Mood For Love do diretor Wong Kar-Wai. "
   ]
  },
  {
   "cell_type": "code",
   "execution_count": null,
   "id": "46fabb54",
   "metadata": {},
   "outputs": [],
   "source": [
    "# 1. Fazer um pre processamento logo depois da detecção de cenas \n",
    "# Excluir cenas com menos de 1 segundo e mais de 20 segundos, por exemplo \n",
    "# Ou excluir cenas com menos de 4 e mais de 12 segundos \n",
    "# Utilizar essas cenas para a clusterização e montagem do edit/highlight --OK-- \n",
    "\n",
    "# 2. Utilizar somente os valors de R, G e B e achar 3 clusters. Fazer montagem. \n",
    "\n",
    "# 3. Achar momento do início e final do filme sem os creditos para não detectar cenas nesses momentos \n",
    "\n",
    "# 4. Padronizar documentação e comentários em funções \n",
    "\n",
    "# 5. Salvar gráfico de imagem em /figures/ --OK-- \n",
    "\n",
    "# 6. Corrigir path de vez no projeto --OK-- \n",
    "\n",
    "# 7. Ideia: pegar as cenas com meiores valores de vermelho e fazer edit com essas "
   ]
  },
  {
   "cell_type": "code",
   "execution_count": 165,
   "id": "5c18d971",
   "metadata": {},
   "outputs": [
    {
     "name": "stdout",
     "output_type": "stream",
     "text": [
      "Working directory set to: /home/rafa/Documents/projects/git\n"
     ]
    }
   ],
   "source": [
    "import pandas as pd \n",
    "import numpy as np \n",
    "\n",
    "import os\n",
    "from pathlib import Path\n",
    "\n",
    "# Força CWD para o diretório raiz do projeto (assumindo que notebook está em notebooks/)\n",
    "ROOT = Path(__file__).resolve().parent.parent if '__file__' in globals() else Path().resolve().parent\n",
    "os.chdir(ROOT)\n",
    "print(f\"Working directory set to: {ROOT}\")"
   ]
  },
  {
   "cell_type": "code",
   "execution_count": 166,
   "id": "8f1a2352",
   "metadata": {},
   "outputs": [],
   "source": [
    "from importlib import reload\n",
    "import sys\n",
    "sys.path.append('../src')\n",
    "\n",
    "import utils \n",
    "import scene_detection\n",
    "import feature_extraction \n",
    "import visualization\n",
    "import clustering \n",
    "import save_video\n",
    "\n",
    "reload(utils)\n",
    "reload(scene_detection)\n",
    "reload(feature_extraction)\n",
    "reload(visualization)\n",
    "reload(clustering)\n",
    "reload(save_video)\n",
    "\n",
    "from utils import get_video_info, cut_scenes, from_root\n",
    "from scene_detection import detect_scene_low_resolution\n",
    "from feature_extraction import audio_features, extract_frames, image_features, movement_features\n",
    "from visualization import plot_rms_silence, plot_color_features, plot_movement, plot_cluster_timeline, plot_scatter_umap, plot_scatter_pca\n",
    "from clustering import clustering \n",
    "from save_video import write_top2_cluster_videos"
   ]
  },
  {
   "cell_type": "code",
   "execution_count": null,
   "id": "41144282",
   "metadata": {},
   "outputs": [
    {
     "name": "stderr",
     "output_type": "stream",
     "text": [
      "VideoManager is deprecated and will be removed.\n"
     ]
    },
    {
     "name": "stdout",
     "output_type": "stream",
     "text": [
      "Total de shots: 62\n"
     ]
    }
   ],
   "source": [
    "video_name = 'long' # snippet, long, fullMovie \n",
    "file_extension = '.mp4' \n",
    "video_file =  video_name + file_extension \n",
    "\n",
    "print(get_video_info(video_file)) \n",
    "\n",
    "df = pd.DataFrame() \n",
    "df = detect_scene_low_resolution(video_file) "
   ]
  },
  {
   "cell_type": "code",
   "execution_count": null,
   "id": "d950ebf1",
   "metadata": {},
   "outputs": [
    {
     "data": {
      "text/plain": [
       "20"
      ]
     },
     "execution_count": 168,
     "metadata": {},
     "output_type": "execute_result"
    }
   ],
   "source": [
    "df_cut = cut_scenes(df, 1, 4)\n",
    "df = df_cut"
   ]
  },
  {
   "cell_type": "code",
   "execution_count": null,
   "id": "b5f4b224",
   "metadata": {},
   "outputs": [
    {
     "data": {
      "text/plain": [
       "20"
      ]
     },
     "execution_count": 170,
     "metadata": {},
     "output_type": "execute_result"
    }
   ],
   "source": [
    "# Audio features: rms_mean and silence_ratio \n",
    "# df = audio_features(video_file, df) \n",
    "\n",
    "# Image features: HSV (hue, saturation, value) and RGB (red, green, blue) mean and variation \n",
    "df = extract_frames(video_file, df) \n",
    "df = image_features(df) \n",
    "\n",
    "# df = movement_features(video_file, df) "
   ]
  },
  {
   "cell_type": "code",
   "execution_count": 171,
   "id": "c29f32fc",
   "metadata": {},
   "outputs": [],
   "source": [
    "# df.to_csv(f'data/{video_name}.csv', index=False)"
   ]
  },
  {
   "cell_type": "code",
   "execution_count": 172,
   "id": "d1fae967",
   "metadata": {},
   "outputs": [],
   "source": [
    "# Visualization of audio, image and movement features \n",
    "\n",
    "# plot_rms_silence(df) \n",
    "# plot_color_features(df) \n",
    "# plot_movement(df) "
   ]
  },
  {
   "cell_type": "code",
   "execution_count": null,
   "id": "112a058b",
   "metadata": {},
   "outputs": [
    {
     "data": {
      "image/png": "[encoded data removed]",
      "text/plain": [
       "<Figure size 1000x300 with 1 Axes>"
      ]
     },
     "metadata": {},
     "output_type": "display_data"
    },
    {
     "data": {
      "text/plain": [
       "20"
      ]
     },
     "execution_count": 175,
     "metadata": {},
     "output_type": "execute_result"
    }
   ],
   "source": [
    "df = clustering(df, video_name, n_clusters=4)\n",
    "# plot_scatter_pca(df)\n",
    "# plot_scatter_umap(df)\n",
    "\n",
    "plot_cluster_timeline(df)"
   ]
  },
  {
   "cell_type": "code",
   "execution_count": 176,
   "id": "21811d2e",
   "metadata": {},
   "outputs": [
    {
     "name": "stdout",
     "output_type": "stream",
     "text": [
      "video path: /home/rafa/Documents/projects/git/cinematic-data-clustering/data/long_lowres.mp4\n",
      "shot: 0       5.933333\n",
      "1       7.333333\n",
      "3     109.066667\n",
      "4     136.000000\n",
      "5     139.066667\n",
      "7     247.733333\n",
      "8     260.800000\n",
      "9     273.200000\n",
      "13    338.800000\n",
      "14    342.733333\n",
      "Name: start, dtype: float64\n"
     ]
    },
    {
     "name": "stderr",
     "output_type": "stream",
     "text": [
      "ffmpeg version 4.2.7-0ubuntu0.1 Copyright (c) 2000-2022 the FFmpeg developers\n",
      "  built with gcc 9 (Ubuntu 9.4.0-1ubuntu1~20.04.1)\n",
      "  configuration: --prefix=/usr --extra-version=0ubuntu0.1 --toolchain=hardened --libdir=/usr/lib/x86_64-linux-gnu --incdir=/usr/include/x86_64-linux-gnu --arch=amd64 --enable-gpl --disable-stripping --enable-avresample --disable-filter=resample --enable-avisynth --enable-gnutls --enable-ladspa --enable-libaom --enable-libass --enable-libbluray --enable-libbs2b --enable-libcaca --enable-libcdio --enable-libcodec2 --enable-libflite --enable-libfontconfig --enable-libfreetype --enable-libfribidi --enable-libgme --enable-libgsm --enable-libjack --enable-libmp3lame --enable-libmysofa --enable-libopenjpeg --enable-libopenmpt --enable-libopus --enable-libpulse --enable-librsvg --enable-librubberband --enable-libshine --enable-libsnappy --enable-libsoxr --enable-libspeex --enable-libssh --enable-libtheora --enable-libtwolame --enable-libvidstab --enable-libvorbis --enable-libvpx --enable-libwavpack --enable-libwebp --enable-libx265 --enable-libxml2 --enable-libxvid --enable-libzmq --enable-libzvbi --enable-lv2 --enable-omx --enable-openal --enable-opencl --enable-opengl --enable-sdl2 --enable-libdc1394 --enable-libdrm --enable-libiec61883 --enable-nvenc --enable-chromaprint --enable-frei0r --enable-libx264 --enable-shared\n",
      "  libavutil      56. 31.100 / 56. 31.100\n",
      "  libavcodec     58. 54.100 / 58. 54.100\n",
      "  libavformat    58. 29.100 / 58. 29.100\n",
      "  libavdevice    58.  8.100 / 58.  8.100\n",
      "  libavfilter     7. 57.100 /  7. 57.100\n",
      "  libavresample   4.  0.  0 /  4.  0.  0\n",
      "  libswscale      5.  5.100 /  5.  5.100\n",
      "  libswresample   3.  5.100 /  3.  5.100\n",
      "  libpostproc    55.  5.100 / 55.  5.100\n",
      "[mov,mp4,m4a,3gp,3g2,mj2 @ 0x55962d0647c0] Auto-inserting h264_mp4toannexb bitstream filter\n",
      "Input #0, concat, from '/home/rafa/Documents/projects/git/cinematic-data-clustering/data/highlight/list_c0.txt':\n",
      "  Duration: N/A, start: 0.000000, bitrate: 859 kb/s\n",
      "    Stream #0:0(und): Video: h264 (High 4:4:4 Predictive) (avc1 / 0x31637661), yuv444p, 299x180, 859 kb/s, 10 fps, 10 tbr, 10240 tbn, 20 tbc\n",
      "    Metadata:\n",
      "      handler_name    : VideoHandler\n",
      "      encoder         : Lavc61.3.100 libx264\n",
      "Output #0, mp4, to '/home/rafa/Documents/projects/git/cinematic-data-clustering/data/highlight/data_cluster_0.mp4':\n",
      "  Metadata:\n",
      "    encoder         : Lavf58.29.100\n",
      "    Stream #0:0(und): Video: h264 (High 4:4:4 Predictive) (avc1 / 0x31637661), yuv444p, 299x180, q=2-31, 859 kb/s, 10 fps, 10 tbr, 10240 tbn, 10240 tbc\n",
      "    Metadata:\n",
      "      handler_name    : VideoHandler\n",
      "      encoder         : Lavc61.3.100 libx264\n",
      "Stream mapping:\n",
      "  Stream #0:0 -> #0:0 (copy)\n",
      "Press [q] to stop, [?] for help\n",
      "[mov,mp4,m4a,3gp,3g2,mj2 @ 0x55962d0647c0] Auto-inserting h264_mp4toannexb bitstream filter\n",
      "    Last message repeated 7 times\n",
      "[mov,mp4,m4a,3gp,3g2,mj2 @ 0x55962d092300] Auto-inserting h264_mp4toannexb bitstream filter\n",
      "frame=  326 fps=0.0 q=-1.0 Lsize=    2493kB time=00:00:32.50 bitrate= 628.5kbits/s speed=2.84e+03x    \n",
      "video:2491kB audio:0kB subtitle:0kB other streams:0kB global headers:0kB muxing overhead: 0.085769%\n"
     ]
    },
    {
     "name": "stdout",
     "output_type": "stream",
     "text": [
      "Vídeo cluster 0 salvo em: /home/rafa/Documents/projects/git/cinematic-data-clustering/data/highlight/data_cluster_0.mp4\n",
      "shot: 6     178.666667\n",
      "15    353.866667\n",
      "16    382.200000\n",
      "18    478.200000\n",
      "19    487.266667\n",
      "Name: start, dtype: float64\n",
      "Vídeo cluster 1 salvo em: /home/rafa/Documents/projects/git/cinematic-data-clustering/data/highlight/data_cluster_1.mp4\n"
     ]
    },
    {
     "name": "stderr",
     "output_type": "stream",
     "text": [
      "ffmpeg version 4.2.7-0ubuntu0.1 Copyright (c) 2000-2022 the FFmpeg developers\n",
      "  built with gcc 9 (Ubuntu 9.4.0-1ubuntu1~20.04.1)\n",
      "  configuration: --prefix=/usr --extra-version=0ubuntu0.1 --toolchain=hardened --libdir=/usr/lib/x86_64-linux-gnu --incdir=/usr/include/x86_64-linux-gnu --arch=amd64 --enable-gpl --disable-stripping --enable-avresample --disable-filter=resample --enable-avisynth --enable-gnutls --enable-ladspa --enable-libaom --enable-libass --enable-libbluray --enable-libbs2b --enable-libcaca --enable-libcdio --enable-libcodec2 --enable-libflite --enable-libfontconfig --enable-libfreetype --enable-libfribidi --enable-libgme --enable-libgsm --enable-libjack --enable-libmp3lame --enable-libmysofa --enable-libopenjpeg --enable-libopenmpt --enable-libopus --enable-libpulse --enable-librsvg --enable-librubberband --enable-libshine --enable-libsnappy --enable-libsoxr --enable-libspeex --enable-libssh --enable-libtheora --enable-libtwolame --enable-libvidstab --enable-libvorbis --enable-libvpx --enable-libwavpack --enable-libwebp --enable-libx265 --enable-libxml2 --enable-libxvid --enable-libzmq --enable-libzvbi --enable-lv2 --enable-omx --enable-openal --enable-opencl --enable-opengl --enable-sdl2 --enable-libdc1394 --enable-libdrm --enable-libiec61883 --enable-nvenc --enable-chromaprint --enable-frei0r --enable-libx264 --enable-shared\n",
      "  libavutil      56. 31.100 / 56. 31.100\n",
      "  libavcodec     58. 54.100 / 58. 54.100\n",
      "  libavformat    58. 29.100 / 58. 29.100\n",
      "  libavdevice    58.  8.100 / 58.  8.100\n",
      "  libavfilter     7. 57.100 /  7. 57.100\n",
      "  libavresample   4.  0.  0 /  4.  0.  0\n",
      "  libswscale      5.  5.100 /  5.  5.100\n",
      "  libswresample   3.  5.100 /  3.  5.100\n",
      "  libpostproc    55.  5.100 / 55.  5.100\n",
      "[mov,mp4,m4a,3gp,3g2,mj2 @ 0x560e0d33fc80] Auto-inserting h264_mp4toannexb bitstream filter\n",
      "Input #0, concat, from '/home/rafa/Documents/projects/git/cinematic-data-clustering/data/highlight/list_c1.txt':\n",
      "  Duration: N/A, start: 0.000000, bitrate: 641 kb/s\n",
      "    Stream #0:0(und): Video: h264 (High 4:4:4 Predictive) (avc1 / 0x31637661), yuv444p, 299x180, 641 kb/s, 10 fps, 10 tbr, 10240 tbn, 20 tbc\n",
      "    Metadata:\n",
      "      handler_name    : VideoHandler\n",
      "      encoder         : Lavc61.3.100 libx264\n",
      "Output #0, mp4, to '/home/rafa/Documents/projects/git/cinematic-data-clustering/data/highlight/data_cluster_1.mp4':\n",
      "  Metadata:\n",
      "    encoder         : Lavf58.29.100\n",
      "    Stream #0:0(und): Video: h264 (High 4:4:4 Predictive) (avc1 / 0x31637661), yuv444p, 299x180, q=2-31, 641 kb/s, 10 fps, 10 tbr, 10240 tbn, 10240 tbc\n",
      "    Metadata:\n",
      "      handler_name    : VideoHandler\n",
      "      encoder         : Lavc61.3.100 libx264\n",
      "Stream mapping:\n",
      "  Stream #0:0 -> #0:0 (copy)\n",
      "Press [q] to stop, [?] for help\n",
      "[mov,mp4,m4a,3gp,3g2,mj2 @ 0x560e0d3673c0] Auto-inserting h264_mp4toannexb bitstream filter\n",
      "    Last message repeated 2 times\n",
      "[mov,mp4,m4a,3gp,3g2,mj2 @ 0x560e0d3410c0] Auto-inserting h264_mp4toannexb bitstream filter\n",
      "frame=  140 fps=0.0 q=-1.0 Lsize=    1081kB time=00:00:13.90 bitrate= 637.1kbits/s speed=2.68e+03x    \n",
      "video:1080kB audio:0kB subtitle:0kB other streams:0kB global headers:0kB muxing overhead: 0.127360%\n"
     ]
    }
   ],
   "source": [
    "write_top2_cluster_videos(\n",
    "    df,\n",
    "    video_file=f\"data/{video_file[:-4]}_lowres.mp4\",\n",
    "    output_dir=\"data/highlight\"\n",
    ")"
   ]
  }
 ],
 "metadata": {
  "kernelspec": {
   "display_name": ".venv",
   "language": "python",
   "name": "python3"
  },
  "language_info": {
   "codemirror_mode": {
    "name": "ipython",
    "version": 3
   },
   "file_extension": ".py",
   "mimetype": "text/x-python",
   "name": "python",
   "nbconvert_exporter": "python",
   "pygments_lexer": "ipython3",
   "version": "3.10.18"
  }
 },
 "nbformat": 4,
 "nbformat_minor": 5
}
